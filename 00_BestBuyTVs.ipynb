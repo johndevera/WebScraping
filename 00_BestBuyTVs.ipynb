{
 "cells": [
  {
   "cell_type": "code",
   "execution_count": 96,
   "metadata": {
    "collapsed": true
   },
   "outputs": [],
   "source": [
    "import bs4 as bs\n",
    "import urllib"
   ]
  },
  {
   "cell_type": "code",
   "execution_count": 110,
   "metadata": {
    "collapsed": false
   },
   "outputs": [],
   "source": [
    "# Get the URLs (\"Sauces\")\n",
    "sauce4K = urllib.urlopen('http://www.bestbuy.ca/en-CA/sc-33064/4k-ultra-hd-tvs?icmp=Televisions_Shopbytype_4K')\n",
    "sauceSMART = urllib.urlopen('http://www.bestbuy.ca/en-CA/sc-17058/smart-tv?icmp=Televisions_Shopbytype_Smart')\n",
    "sauceOLED = urllib.urlopen('http://www.bestbuy.ca/en-CA/sc-12057/oled-tv?icmp=Televisions_Shopbytype_OLED')\n",
    "sauceCURVED = urllib.urlopen('http://www.bestbuy.ca/en-CA/sc-23080/curvedtvs?icmp=Televisions_Shopbytype_Curved')"
   ]
  },
  {
   "cell_type": "code",
   "execution_count": 111,
   "metadata": {
    "collapsed": false
   },
   "outputs": [],
   "source": [
    "#Get the HTML code (\"Soup\") by placing the \"sauce\" into the soup\n",
    "soup4K = bs.BeautifulSoup(sauce4K, 'lxml') #lxml is the parser\n",
    "soupSMART = bs.BeautifulSoup(sauceSMART, 'lxml') #lxml is the parser\n",
    "soupOLED = bs.BeautifulSoup(sauceOLED, 'lxml') #lxml is the parser\n",
    "soupCURVED = bs.BeautifulSoup(sauceCURVED, 'lxml') #lxml is the parser"
   ]
  },
  {
   "cell_type": "code",
   "execution_count": 99,
   "metadata": {
    "collapsed": false
   },
   "outputs": [
    {
     "name": "stdout",
     "output_type": "stream",
     "text": [
      "<title>\r\n",
      "\t4K Ultra HD TVs\r\n",
      "</title>\n"
     ]
    }
   ],
   "source": [
    "#From the HTML code, find the TITLE tag, and extract its string\n",
    "#These will be used later for populating CSV headers\n",
    "title4K = soup4K.title.string\n",
    "titleSMART = soupSMART.title.string\n",
    "titleOLED = soupOLED.title.string\n",
    "titleCURVED = soupCURVED.title.string\n",
    "\n",
    "print(soup4K.title)"
   ]
  },
  {
   "cell_type": "code",
   "execution_count": 100,
   "metadata": {
    "collapsed": false
   },
   "outputs": [
    {
     "name": "stdout",
     "output_type": "stream",
     "text": [
      "\r\n",
      "\t4K Ultra HD TVs\r\n",
      "\n"
     ]
    }
   ],
   "source": [
    "print(soup4K.title.string)"
   ]
  },
  {
   "cell_type": "code",
   "execution_count": 101,
   "metadata": {
    "collapsed": false
   },
   "outputs": [
    {
     "name": "stdout",
     "output_type": "stream",
     "text": [
      "\r\n",
      "\t4K Ultra HD TVs\r\n",
      "\n",
      "\r\n",
      "\tSmart TVs\r\n",
      "\n",
      "\r\n",
      "\tOLED TVs\r\n",
      "\n",
      "\r\n",
      "\tCurved TVs\r\n",
      "\n"
     ]
    }
   ],
   "source": [
    "#Print out the page TITLEs, which is the same as the tab bar title\n",
    "print(title4K)\n",
    "print(titleSMART)\n",
    "print(titleOLED)\n",
    "print(titleCURVED)"
   ]
  },
  {
   "cell_type": "code",
   "execution_count": 112,
   "metadata": {
    "collapsed": false
   },
   "outputs": [
    {
     "name": "stdout",
     "output_type": "stream",
     "text": [
      "Samsung 40\" 4K Ultra HD HDR LED Tizen Smart TV (UN40KU6270FXZC)\n",
      "Samsung 49\" 4K Ultra HD Curved LED Tizen Smart TV (UN49KU6500FXZC) - Black - Only at Best Buy\n",
      "Samsung 50\" 4K Ultra HD HDR LED Tizen Smart TV (UN50KU6270FXZC)\n",
      "Samsung 55\" 4K Ultra HD LED Tizen Smart TV (UN55KU6290FXZC) - Dark Titan\n",
      "LG 65\" 4K UHD HDR LED webOS3.0 Smart TV (65UH5500)\n",
      "Toshiba 65\" 4K UHD LED TV (65L621U) - Black - Only at Best Buy\n",
      "Samsung 55\" 4K Ultra HD Curved LED Tizen Smart TV (UN55KU6500FXZC) - Black - Only at Best Buy\n",
      "Sony XBR65X750D 65\" 4K UHD LED HDR Android Smart TV\n",
      "LG 55\" 4K UHD HDR LED webOS 3.0 Smart TV (55UH6150) - Light Silver\n",
      "Toshiba 43\" 4K Ultra HD LED TV (43L621U) - Black - Only at Best Buy\n",
      "Samsung 70\" 4K Ultra HD LED Tizen Smart TV (UN70KU6290FXZC) - Dark Titan\n",
      "Sony 55\" 4K UHD HDR LED Android Smart TV (XBR55X850D)\n",
      "LG B6 55\" 4K UHD HDR OLED webOS 3.0 Smart TV (OLED55B6P) - Titan\n",
      "Samsung 55\" 4K Ultra HD LED Smart TV (UN55KU7000FXZC)\n",
      "Sony 49\" 4K UHD LED HDR Android Smart TV (XBR49X700D)\n",
      "Toshiba 55\" 4K UHD LED TV (55L621U) - Only at Best Buy\n",
      "Toshiba 49\" 4K UHD LED TV (49L621U) - Only at Best Buy\n",
      "Samsung 55\" 4K Ultra HD Curved LED Smart TV (UN55KU6490FXZC) - Black\n",
      "Sony 65\" 4K UHD HDR LED Android Smart TV (XBR65X850D)\n",
      "Samsung 60\" 4K Ultra HD LED Tizen Smart TV (UN60KU6270FXZC) - Dark Titan\n",
      "Sony 49\" 4K UHD HDR LED Android Smart TV (XBR49X800D)\n",
      "Samsung 50\" 4K Ultra HD LED Tizen Smart TV (UN50KU6290FXZC) - Dark Titan\n",
      "LG B6 65\" 4K UHD HDR OLED webOS 3.0 Smart TV (OLED65B6P) - Titan\n",
      "LG 55\" 4K UHD LED webOS 3.0 Smart TV (55UH7650) - Dark Titan\n",
      "LG 43\" 4K UHD HDR LED webOS 3.0 Smart TV (43UH6100)\n",
      "Samsung 55\" 4K UHD HDR LED Tizen Smart TV (UN55KS8000FXZC)\n",
      "Sony XBR X700D 55\" 4K UHD LED HDR Android Smart TV (XBR55X700D)\n",
      "Samsung 65\" 4K Ultra HD Curved LED Tizen Smart TV (UN65KU6500FXZC) - Black - Only at Best Buy\n",
      "Samsung 65\" 4K UHD HDR LED Tizen Smart TV (UN65KS8000FXZC)\n",
      "LG 65\" 4K UHD LED webOS 3.0 Smart TV (65UH7650) - Dark Titan\n",
      "LG 50\" 4K UHD LED WebOS 3.0 Smart TV (50UH5500)\n",
      "Samsung 65\" 4K Ultra HD LED Tizen Smart TV (UN65KU6290FXZC) - Dark Titan\n"
     ]
    }
   ],
   "source": [
    "#Go through the soup and find the \"h4\" tags, of class \"prod-title\"\n",
    "for description4K in soup4K.find_all('h4', class_=\"prod-title\"):\n",
    "    print (description4K.text)"
   ]
  },
  {
   "cell_type": "code",
   "execution_count": 103,
   "metadata": {
    "collapsed": false
   },
   "outputs": [
    {
     "name": "stdout",
     "output_type": "stream",
     "text": [
      "$799.99\n",
      "$1299.99\n",
      "$999.99\n",
      "$1099.99\n",
      "$1599.99\n",
      "$999.99\n",
      "$1299.99\n",
      "$1699.99\n",
      "$1299.99\n",
      "$449.99\n",
      "$2499.99\n",
      "$1599.99\n",
      "$2999.99\n",
      "$1199.99\n",
      "$999.99\n",
      "$899.99\n",
      "$549.99\n",
      "$1199.99\n",
      "$2599.99\n",
      "$1499.99\n",
      "$1099.99\n",
      "$999.99\n",
      "$4999.99\n",
      "$1999.99\n",
      "$649.99\n",
      "$2299.99\n",
      "$1299.99\n",
      "$1899.99\n",
      "$3299.99\n",
      "$2999.99\n",
      "$799.99\n",
      "$1899.99\n"
     ]
    }
   ],
   "source": [
    "#Go through the soup and fin the \"SPAN\" tags, of class \"amount\"\n",
    "for cost4K in soup4K.find_all('span', class_=\"amount\"):\n",
    "    print (cost4K.text)    \n",
    "#for paragraph in soup.find_all('p'):"
   ]
  },
  {
   "cell_type": "code",
   "execution_count": 104,
   "metadata": {
    "collapsed": false
   },
   "outputs": [
    {
     "name": "stdout",
     "output_type": "stream",
     "text": [
      "('Count: ', 32)\n"
     ]
    }
   ],
   "source": [
    "#Count how many items there are, in terms of cost\n",
    "counter = 0\n",
    "for cost in soup4K.find_all('span', class_=\"amount\"):\n",
    "        counter = counter + 1\n",
    "print(\"Count: \", counter)\n"
   ]
  },
  {
   "cell_type": "code",
   "execution_count": 105,
   "metadata": {
    "collapsed": false
   },
   "outputs": [
    {
     "name": "stdout",
     "output_type": "stream",
     "text": [
      "('Array Shape:', (32, 2))\n"
     ]
    }
   ],
   "source": [
    "#Make an array of size 32 rows and 2 columns\n",
    "dataArray = np.zeros((counter, 2))\n",
    "print(\"Array Shape:\", dataArray.shape)"
   ]
  },
  {
   "cell_type": "code",
   "execution_count": 106,
   "metadata": {
    "collapsed": false
   },
   "outputs": [
    {
     "name": "stdout",
     "output_type": "stream",
     "text": [
      "Cost: $799.99\n",
      "Cost: 799.99\n"
     ]
    }
   ],
   "source": [
    "for cost in soup4K.find_all('span', class_=\"amount\"):\n",
    "    LHS, RHS = cost.string.split(\"$\", 1)\n",
    "    print(\"Cost: \" + cost.string)\n",
    "    print(\"Cost: \" + RHS)\n",
    "    break"
   ]
  },
  {
   "cell_type": "code",
   "execution_count": 107,
   "metadata": {
    "collapsed": false
   },
   "outputs": [
    {
     "name": "stdout",
     "output_type": "stream",
     "text": [
      "('Count: ', 32)\n",
      "799.99\n",
      "1299.99\n",
      "999.99\n",
      "1099.99\n",
      "1599.99\n",
      "999.99\n",
      "1299.99\n",
      "1699.99\n",
      "1299.99\n",
      "449.99\n",
      "2499.99\n",
      "1599.99\n",
      "2999.99\n",
      "1199.99\n",
      "999.99\n",
      "899.99\n",
      "549.99\n",
      "1199.99\n",
      "2599.99\n",
      "1499.99\n",
      "1099.99\n",
      "999.99\n",
      "4999.99\n",
      "1999.99\n",
      "649.99\n",
      "2299.99\n",
      "1299.99\n",
      "1899.99\n",
      "3299.99\n",
      "2999.99\n",
      "799.99\n",
      "1899.99\n",
      "Samsung 40\" 4K Ultra HD HDR LED Tizen Smart TV (UN40KU6270FXZC)\n",
      "Samsung 49\" 4K Ultra HD Curved LED Tizen Smart TV (UN49KU6500FXZC) - Black - Only at Best Buy\n",
      "Samsung 50\" 4K Ultra HD HDR LED Tizen Smart TV (UN50KU6270FXZC)\n",
      "Samsung 55\" 4K Ultra HD LED Tizen Smart TV (UN55KU6290FXZC) - Dark Titan\n",
      "LG 65\" 4K UHD HDR LED webOS3.0 Smart TV (65UH5500)\n",
      "Toshiba 65\" 4K UHD LED TV (65L621U) - Black - Only at Best Buy\n",
      "Samsung 55\" 4K Ultra HD Curved LED Tizen Smart TV (UN55KU6500FXZC) - Black - Only at Best Buy\n",
      "Sony XBR65X750D 65\" 4K UHD LED HDR Android Smart TV\n",
      "LG 55\" 4K UHD HDR LED webOS 3.0 Smart TV (55UH6150) - Light Silver\n",
      "Toshiba 43\" 4K Ultra HD LED TV (43L621U) - Black - Only at Best Buy\n",
      "Samsung 70\" 4K Ultra HD LED Tizen Smart TV (UN70KU6290FXZC) - Dark Titan\n",
      "Sony 55\" 4K UHD HDR LED Android Smart TV (XBR55X850D)\n",
      "LG B6 55\" 4K UHD HDR OLED webOS 3.0 Smart TV (OLED55B6P) - Titan\n",
      "Samsung 55\" 4K Ultra HD LED Smart TV (UN55KU7000FXZC)\n",
      "Sony 49\" 4K UHD LED HDR Android Smart TV (XBR49X700D)\n",
      "Toshiba 55\" 4K UHD LED TV (55L621U) - Only at Best Buy\n",
      "Toshiba 49\" 4K UHD LED TV (49L621U) - Only at Best Buy\n",
      "Samsung 55\" 4K Ultra HD Curved LED Smart TV (UN55KU6490FXZC) - Black\n",
      "Sony 65\" 4K UHD HDR LED Android Smart TV (XBR65X850D)\n",
      "Samsung 60\" 4K Ultra HD LED Tizen Smart TV (UN60KU6270FXZC) - Dark Titan\n",
      "Sony 49\" 4K UHD HDR LED Android Smart TV (XBR49X800D)\n",
      "Samsung 50\" 4K Ultra HD LED Tizen Smart TV (UN50KU6290FXZC) - Dark Titan\n",
      "LG B6 65\" 4K UHD HDR OLED webOS 3.0 Smart TV (OLED65B6P) - Titan\n",
      "LG 55\" 4K UHD LED webOS 3.0 Smart TV (55UH7650) - Dark Titan\n",
      "LG 43\" 4K UHD HDR LED webOS 3.0 Smart TV (43UH6100)\n",
      "Samsung 55\" 4K UHD HDR LED Tizen Smart TV (UN55KS8000FXZC)\n",
      "Sony XBR X700D 55\" 4K UHD LED HDR Android Smart TV (XBR55X700D)\n",
      "Samsung 65\" 4K Ultra HD Curved LED Tizen Smart TV (UN65KU6500FXZC) - Black - Only at Best Buy\n",
      "Samsung 65\" 4K UHD HDR LED Tizen Smart TV (UN65KS8000FXZC)\n",
      "LG 65\" 4K UHD LED webOS 3.0 Smart TV (65UH7650) - Dark Titan\n",
      "LG 50\" 4K UHD LED WebOS 3.0 Smart TV (50UH5500)\n",
      "Samsung 65\" 4K Ultra HD LED Tizen Smart TV (UN65KU6290FXZC) - Dark Titan\n"
     ]
    }
   ],
   "source": [
    "import numpy as np\n",
    "\n",
    "def tvData(soup):\n",
    "    #Count how many items there are\n",
    "    count = 0\n",
    "    for cost in soup.find_all('span', class_=\"amount\"):\n",
    "        count = count + 1\n",
    "    print(\"Count: \", count)\n",
    "    \n",
    "    #Makes the Cost and Description arrays (seperately)\n",
    "    costArray = np.zeros((count, 1)) #1 column of zeroes to start, of size count\n",
    "    descriptionArray = [\"\" for x in range(count)] #1 column of strings, of size count\n",
    "    \n",
    "    #### Fill the cost array\n",
    "    i = 0\n",
    "    for cost in soup.find_all('span', class_=\"amount\"):\n",
    "        sign, number = cost.string.split(\"$\", 1)\n",
    "        costArray[i] = float(number)\n",
    "        print(round(costArray[i, 0],2))\n",
    "        i = i+1\n",
    "    \n",
    "    ### Fill the description array\n",
    "    j = 0\n",
    "    \n",
    "    for description in soup.find_all('h4', class_=\"prod-title\"):\n",
    "        print(description.text)\n",
    "        descriptionArray[j] = str(description.text)\n",
    "        j = j+1\n",
    "        \n",
    "    return costArray, descriptionArray, count \n",
    "        \n",
    "cost4K, description4K, count4K = tvData(soup4K)\n",
    "\n"
   ]
  },
  {
   "cell_type": "code",
   "execution_count": 108,
   "metadata": {
    "collapsed": false
   },
   "outputs": [
    {
     "name": "stdout",
     "output_type": "stream",
     "text": [
      "('Count: ', 32)\n",
      "799.99\n",
      "1299.99\n",
      "599.95\n",
      "999.99\n",
      "1099.99\n",
      "1599.99\n",
      "1299.99\n",
      "1699.99\n",
      "1299.99\n",
      "2499.99\n",
      "1599.99\n",
      "2999.99\n",
      "1199.99\n",
      "999.99\n",
      "799.99\n",
      "379.99\n",
      "1199.99\n",
      "2599.99\n",
      "1499.99\n",
      "1099.99\n",
      "499.99\n",
      "199.99\n",
      "999.99\n",
      "4999.99\n",
      "1999.99\n",
      "649.99\n",
      "2299.99\n",
      "999.99\n",
      "1099.99\n",
      "1299.99\n",
      "1899.99\n",
      "3299.99\n",
      "Samsung 40\" 4K Ultra HD HDR LED Tizen Smart TV (UN40KU6270FXZC)\n",
      "Samsung 49\" 4K Ultra HD Curved LED Tizen Smart TV (UN49KU6500FXZC) - Black - Only at Best Buy\n",
      "Sharp 55\" 1080p LED Roku Smart TV (LC-55LB481C)\n",
      "Samsung 50\" 4K Ultra HD HDR LED Tizen Smart TV (UN50KU6270FXZC)\n",
      "Samsung 55\" 4K Ultra HD LED Tizen Smart TV (UN55KU6290FXZC) - Dark Titan\n",
      "LG 65\" 4K UHD HDR LED webOS3.0 Smart TV (65UH5500)\n",
      "Samsung 55\" 4K Ultra HD Curved LED Tizen Smart TV (UN55KU6500FXZC) - Black - Only at Best Buy\n",
      "Sony XBR65X750D 65\" 4K UHD LED HDR Android Smart TV\n",
      "LG 55\" 4K UHD HDR LED webOS 3.0 Smart TV (55UH6150) - Light Silver\n",
      "Samsung 70\" 4K Ultra HD LED Tizen Smart TV (UN70KU6290FXZC) - Dark Titan\n",
      "Sony 55\" 4K UHD HDR LED Android Smart TV (XBR55X850D)\n",
      "LG B6 55\" 4K UHD HDR OLED webOS 3.0 Smart TV (OLED55B6P) - Titan\n",
      "Samsung 55\" 4K Ultra HD LED Smart TV (UN55KU7000FXZC)\n",
      "Sony 49\" 4K UHD LED HDR Android Smart TV (XBR49X700D)\n",
      "Samsung 48\" 1080p LED Smart TV (UN48J5500AFXZC) - Only at Best Buy\n",
      "Insignia 39\" 1080 60Hz LED Roku Smart TV (NS-39DR510CA17) - Black - Only at Best Buy\n",
      "Samsung 55\" 4K Ultra HD Curved LED Smart TV (UN55KU6490FXZC) - Black\n",
      "Sony 65\" 4K UHD HDR LED Android Smart TV (XBR65X850D)\n",
      "Samsung 60\" 4K Ultra HD LED Tizen Smart TV (UN60KU6270FXZC) - Dark Titan\n",
      "Sony 49\" 4K UHD HDR LED Android Smart TV (XBR49X800D)\n",
      "Sharp 43\" 1080p LED Roku Smart TV (LC-43LB481C) - Only at Best Buy\n",
      "Toshiba 32\" 720p LED Smart TV (32L221U) - Only at Best Buy\n",
      "Samsung 50\" 4K Ultra HD LED Tizen Smart TV (UN50KU6290FXZC) - Dark Titan\n",
      "LG B6 65\" 4K UHD HDR OLED webOS 3.0 Smart TV (OLED65B6P) - Titan\n",
      "LG 55\" 4K UHD LED webOS 3.0 Smart TV (55UH7650) - Dark Titan\n",
      "LG 43\" 4K UHD HDR LED webOS 3.0 Smart TV (43UH6100)\n",
      "Samsung 55\" 4K UHD HDR LED Tizen Smart TV (UN55KS8000FXZC)\n",
      "Samsung 58\" 1080p LED Smart TV (UN58H5202AFXZC)\n",
      "Sony 60\" Smart 1080p LED TV (KDL60W630B/2)\n",
      "Sony XBR X700D 55\" 4K UHD LED HDR Android Smart TV (XBR55X700D)\n",
      "Samsung 65\" 4K Ultra HD Curved LED Tizen Smart TV (UN65KU6500FXZC) - Black - Only at Best Buy\n",
      "Samsung 65\" 4K UHD HDR LED Tizen Smart TV (UN65KS8000FXZC)\n",
      "('Count: ', 5)\n",
      "2999.99\n",
      "4999.99\n",
      "9999.99\n",
      "5999.99\n",
      "3999.99\n",
      "LG B6 55\" 4K UHD HDR OLED webOS 3.0 Smart TV (OLED55B6P) - Titan\n",
      "LG B6 65\" 4K UHD HDR OLED webOS 3.0 Smart TV (OLED65B6P) - Titan\n",
      "LG G6 Signature 65\" 4K Ultra HD OLED 3D WebOS3.0 Smart TV (OLED65G6P)\n",
      "LG E6 65\" 4K Ultra HD OLED 3D WebOS3.0 Smart TV (OLED65E6P)\n",
      "LG E6 55\" 4K Ultra HD OLED 3D WebOS3.0 Smart TV (OLED55E6P)\n",
      "('Count: ', 19)\n",
      "1299.99\n",
      "1299.99\n",
      "1199.99\n",
      "1899.99\n",
      "3499.99\n",
      "2499.99\n",
      "1199.99\n",
      "599.99\n",
      "1799.99\n",
      "11999.99\n",
      "4199.99\n",
      "34999.99\n",
      "9999.99\n",
      "1299.99\n",
      "3199.99\n",
      "5999.99\n",
      "2199.99\n",
      "1099.99\n",
      "6999.97\n",
      "Samsung 49\" 4K Ultra HD Curved LED Tizen Smart TV (UN49KU6500FXZC) - Black - Only at Best Buy\n",
      "Samsung 55\" 4K Ultra HD Curved LED Tizen Smart TV (UN55KU6500FXZC) - Black - Only at Best Buy\n",
      "Samsung 55\" 4K Ultra HD Curved LED Smart TV (UN55KU6490FXZC) - Black\n",
      "Samsung 65\" 4K Ultra HD Curved LED Tizen Smart TV (UN65KU6500FXZC) - Black - Only at Best Buy\n",
      "Samsung 65\" 4K UHD HDR Curved LED Tizen Smart TV (UN65KS8500FXZC)\n",
      "Samsung 55\" 4K UHD HDR Curved LED Tizen Smart TV (UN55KS8500FXZC)\n",
      "Samsung 49\" 4K Ultra HD Curved Smart TV (UN49KU6490FXZC) - Black\n",
      "Samsung 40\" 1080p Curved LED Smart TV (UN40K6250AFXZC) - Silver\n",
      "Samsung 65\" 4K Ultra HD Curved LED Smart TV (UN65KU6490FXZC) - Black\n",
      "Samsung 78\" 4K Ultra HD HDR Curved Smart TV (UN78KS9800FXZC) - Dark Titan\n",
      "Samsung 65\" 4K UHD HDR Curved LED Smart TV (UN65KS9500FXZC)\n",
      "Samsung 88\" 4K Ultra HD HDR Curved Smart TV (UN88KS9810FXZC) - Dark Titan\n",
      "Samsung 78\" 4K UHD HDR Curved LED Smart TV (UN78KS9500FXZC)\n",
      "Samsung 55\" 1080p Curved LED Smart TV (UN55K6250AFXZC)\n",
      "Samsung 55\" 4K UHD HDR Curved LED Smart TV (UN55KS9500FXZC)\n",
      "Samsung 65\" 4K Ultra HD HDR Curved Smart TV (UN65KS9800FXZC) - Dark Titan\n",
      "Samsung 49\" 4K UHD HDR Curved LED Tizen Smart TV (UN49KS8500FXZC)\n",
      "Samsung 49\" 1080p Curved LED Smart TV (UN49K6250AFXZC) - Silver\n",
      "Samsung 78\" 4K UHD Curved LED Smart TV (UN78KU7500FXZC)\n"
     ]
    }
   ],
   "source": [
    "costSMART, descriptionSMART, countSMART = tvData(soupSMART)\n",
    "costOLED, descriptionOLED, countOLED = tvData(soupOLED)\n",
    "costCURVED, descriptionCURVED, countCURVED = tvData(soupCURVED)"
   ]
  },
  {
   "cell_type": "code",
   "execution_count": 109,
   "metadata": {
    "collapsed": false
   },
   "outputs": [
    {
     "name": "stdout",
     "output_type": "stream",
     "text": [
      "Closed\n"
     ]
    }
   ],
   "source": [
    "import csv as csv\n",
    "import os\n",
    "\n",
    "tvPrices = 'tvPrices.csv' #found in current running directory\n",
    "\n",
    "with open(tvPrices, 'w') as csvFile:\n",
    "            \n",
    "            csvFile.write(title4K + '\\n')\n",
    "            for i in range(0, count4K, 1):\n",
    "                #print(str(float(cost4K[i])) + ',' + description4K[i])\n",
    "                csvFile.write(str(float(cost4K[i])) + ',' + description4K[i] + '\\n')\n",
    "        \n",
    "            csvFile.write(titleSMART + '\\n')\n",
    "            for i in range(0, countSMART, 1):\n",
    "                csvFile.write(str(float(costSMART[i])) + ',' + descriptionSMART[i] + '\\n')\n",
    "                \n",
    "            csvFile.write(titleOLED + '\\n')\n",
    "            for i in range(0, countOLED, 1):\n",
    "                csvFile.write(str(float(costOLED[i])) + ',' + descriptionOLED[i] + '\\n')\n",
    "            \n",
    "            csvFile.write(titleCURVED + '\\n')\n",
    "            for i in range(0, countCURVED, 1):\n",
    "                csvFile.write(str(float(costCURVED[i])) + ',' + descriptionCURVED[i] + '\\n') \n",
    "            \n",
    "            csvFile.close()\n",
    "            \n",
    "print(\"Closed\")\n"
   ]
  },
  {
   "cell_type": "code",
   "execution_count": null,
   "metadata": {
    "collapsed": true
   },
   "outputs": [],
   "source": []
  },
  {
   "cell_type": "code",
   "execution_count": null,
   "metadata": {
    "collapsed": true
   },
   "outputs": [],
   "source": []
  },
  {
   "cell_type": "code",
   "execution_count": null,
   "metadata": {
    "collapsed": true
   },
   "outputs": [],
   "source": []
  }
 ],
 "metadata": {
  "anaconda-cloud": {},
  "kernelspec": {
   "display_name": "Python [default]",
   "language": "python",
   "name": "python2"
  },
  "language_info": {
   "codemirror_mode": {
    "name": "ipython",
    "version": 2
   },
   "file_extension": ".py",
   "mimetype": "text/x-python",
   "name": "python",
   "nbconvert_exporter": "python",
   "pygments_lexer": "ipython2",
   "version": "2.7.12"
  }
 },
 "nbformat": 4,
 "nbformat_minor": 1
}
